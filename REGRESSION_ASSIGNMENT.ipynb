{
  "nbformat": 4,
  "nbformat_minor": 0,
  "metadata": {
    "colab": {
      "name": "REGRESSION ASSIGNMENT.ipynb",
      "provenance": [],
      "collapsed_sections": []
    },
    "kernelspec": {
      "name": "python3",
      "display_name": "Python 3"
    },
    "language_info": {
      "name": "python"
    }
  },
  "cells": [
    {
      "cell_type": "code",
      "execution_count": 74,
      "metadata": {
        "id": "XUU4p5LkxjOT"
      },
      "outputs": [],
      "source": [
        "import pandas as pd\n",
        "import numpy as np\n",
        "import matplotlib.pyplot as plt"
      ]
    },
    {
      "cell_type": "code",
      "source": [
        "dataset =pd.read_csv(\"/content/aids.csv\")\n",
        "dataset"
      ],
      "metadata": {
        "colab": {
          "base_uri": "https://localhost:8080/",
          "height": 424
        },
        "id": "k-k_rXpuxsNq",
        "outputId": "d2f88994-4462-4a24-a22f-3a2de504bf68"
      },
      "execution_count": 75,
      "outputs": [
        {
          "output_type": "execute_result",
          "data": {
            "text/plain": [
              "     Unnamed: 0  year  death\n",
              "0             1  1983      0\n",
              "1             2  1983      2\n",
              "2             3  1983      5\n",
              "3             4  1983      8\n",
              "4             5  1983     11\n",
              "..          ...   ...    ...\n",
              "565         566  1992     29\n",
              "566         567  1992     32\n",
              "567         568  1992     35\n",
              "568         569  1992     38\n",
              "569         570  1992     41\n",
              "\n",
              "[570 rows x 3 columns]"
            ],
            "text/html": [
              "\n",
              "  <div id=\"df-c2aab4fc-1577-48cc-8376-4eae6f1c6161\">\n",
              "    <div class=\"colab-df-container\">\n",
              "      <div>\n",
              "<style scoped>\n",
              "    .dataframe tbody tr th:only-of-type {\n",
              "        vertical-align: middle;\n",
              "    }\n",
              "\n",
              "    .dataframe tbody tr th {\n",
              "        vertical-align: top;\n",
              "    }\n",
              "\n",
              "    .dataframe thead th {\n",
              "        text-align: right;\n",
              "    }\n",
              "</style>\n",
              "<table border=\"1\" class=\"dataframe\">\n",
              "  <thead>\n",
              "    <tr style=\"text-align: right;\">\n",
              "      <th></th>\n",
              "      <th>Unnamed: 0</th>\n",
              "      <th>year</th>\n",
              "      <th>death</th>\n",
              "    </tr>\n",
              "  </thead>\n",
              "  <tbody>\n",
              "    <tr>\n",
              "      <th>0</th>\n",
              "      <td>1</td>\n",
              "      <td>1983</td>\n",
              "      <td>0</td>\n",
              "    </tr>\n",
              "    <tr>\n",
              "      <th>1</th>\n",
              "      <td>2</td>\n",
              "      <td>1983</td>\n",
              "      <td>2</td>\n",
              "    </tr>\n",
              "    <tr>\n",
              "      <th>2</th>\n",
              "      <td>3</td>\n",
              "      <td>1983</td>\n",
              "      <td>5</td>\n",
              "    </tr>\n",
              "    <tr>\n",
              "      <th>3</th>\n",
              "      <td>4</td>\n",
              "      <td>1983</td>\n",
              "      <td>8</td>\n",
              "    </tr>\n",
              "    <tr>\n",
              "      <th>4</th>\n",
              "      <td>5</td>\n",
              "      <td>1983</td>\n",
              "      <td>11</td>\n",
              "    </tr>\n",
              "    <tr>\n",
              "      <th>...</th>\n",
              "      <td>...</td>\n",
              "      <td>...</td>\n",
              "      <td>...</td>\n",
              "    </tr>\n",
              "    <tr>\n",
              "      <th>565</th>\n",
              "      <td>566</td>\n",
              "      <td>1992</td>\n",
              "      <td>29</td>\n",
              "    </tr>\n",
              "    <tr>\n",
              "      <th>566</th>\n",
              "      <td>567</td>\n",
              "      <td>1992</td>\n",
              "      <td>32</td>\n",
              "    </tr>\n",
              "    <tr>\n",
              "      <th>567</th>\n",
              "      <td>568</td>\n",
              "      <td>1992</td>\n",
              "      <td>35</td>\n",
              "    </tr>\n",
              "    <tr>\n",
              "      <th>568</th>\n",
              "      <td>569</td>\n",
              "      <td>1992</td>\n",
              "      <td>38</td>\n",
              "    </tr>\n",
              "    <tr>\n",
              "      <th>569</th>\n",
              "      <td>570</td>\n",
              "      <td>1992</td>\n",
              "      <td>41</td>\n",
              "    </tr>\n",
              "  </tbody>\n",
              "</table>\n",
              "<p>570 rows × 3 columns</p>\n",
              "</div>\n",
              "      <button class=\"colab-df-convert\" onclick=\"convertToInteractive('df-c2aab4fc-1577-48cc-8376-4eae6f1c6161')\"\n",
              "              title=\"Convert this dataframe to an interactive table.\"\n",
              "              style=\"display:none;\">\n",
              "        \n",
              "  <svg xmlns=\"http://www.w3.org/2000/svg\" height=\"24px\"viewBox=\"0 0 24 24\"\n",
              "       width=\"24px\">\n",
              "    <path d=\"M0 0h24v24H0V0z\" fill=\"none\"/>\n",
              "    <path d=\"M18.56 5.44l.94 2.06.94-2.06 2.06-.94-2.06-.94-.94-2.06-.94 2.06-2.06.94zm-11 1L8.5 8.5l.94-2.06 2.06-.94-2.06-.94L8.5 2.5l-.94 2.06-2.06.94zm10 10l.94 2.06.94-2.06 2.06-.94-2.06-.94-.94-2.06-.94 2.06-2.06.94z\"/><path d=\"M17.41 7.96l-1.37-1.37c-.4-.4-.92-.59-1.43-.59-.52 0-1.04.2-1.43.59L10.3 9.45l-7.72 7.72c-.78.78-.78 2.05 0 2.83L4 21.41c.39.39.9.59 1.41.59.51 0 1.02-.2 1.41-.59l7.78-7.78 2.81-2.81c.8-.78.8-2.07 0-2.86zM5.41 20L4 18.59l7.72-7.72 1.47 1.35L5.41 20z\"/>\n",
              "  </svg>\n",
              "      </button>\n",
              "      \n",
              "  <style>\n",
              "    .colab-df-container {\n",
              "      display:flex;\n",
              "      flex-wrap:wrap;\n",
              "      gap: 12px;\n",
              "    }\n",
              "\n",
              "    .colab-df-convert {\n",
              "      background-color: #E8F0FE;\n",
              "      border: none;\n",
              "      border-radius: 50%;\n",
              "      cursor: pointer;\n",
              "      display: none;\n",
              "      fill: #1967D2;\n",
              "      height: 32px;\n",
              "      padding: 0 0 0 0;\n",
              "      width: 32px;\n",
              "    }\n",
              "\n",
              "    .colab-df-convert:hover {\n",
              "      background-color: #E2EBFA;\n",
              "      box-shadow: 0px 1px 2px rgba(60, 64, 67, 0.3), 0px 1px 3px 1px rgba(60, 64, 67, 0.15);\n",
              "      fill: #174EA6;\n",
              "    }\n",
              "\n",
              "    [theme=dark] .colab-df-convert {\n",
              "      background-color: #3B4455;\n",
              "      fill: #D2E3FC;\n",
              "    }\n",
              "\n",
              "    [theme=dark] .colab-df-convert:hover {\n",
              "      background-color: #434B5C;\n",
              "      box-shadow: 0px 1px 3px 1px rgba(0, 0, 0, 0.15);\n",
              "      filter: drop-shadow(0px 1px 2px rgba(0, 0, 0, 0.3));\n",
              "      fill: #FFFFFF;\n",
              "    }\n",
              "  </style>\n",
              "\n",
              "      <script>\n",
              "        const buttonEl =\n",
              "          document.querySelector('#df-c2aab4fc-1577-48cc-8376-4eae6f1c6161 button.colab-df-convert');\n",
              "        buttonEl.style.display =\n",
              "          google.colab.kernel.accessAllowed ? 'block' : 'none';\n",
              "\n",
              "        async function convertToInteractive(key) {\n",
              "          const element = document.querySelector('#df-c2aab4fc-1577-48cc-8376-4eae6f1c6161');\n",
              "          const dataTable =\n",
              "            await google.colab.kernel.invokeFunction('convertToInteractive',\n",
              "                                                     [key], {});\n",
              "          if (!dataTable) return;\n",
              "\n",
              "          const docLinkHtml = 'Like what you see? Visit the ' +\n",
              "            '<a target=\"_blank\" href=https://colab.research.google.com/notebooks/data_table.ipynb>data table notebook</a>'\n",
              "            + ' to learn more about interactive tables.';\n",
              "          element.innerHTML = '';\n",
              "          dataTable['output_type'] = 'display_data';\n",
              "          await google.colab.output.renderOutput(dataTable, element);\n",
              "          const docLink = document.createElement('div');\n",
              "          docLink.innerHTML = docLinkHtml;\n",
              "          element.appendChild(docLink);\n",
              "        }\n",
              "      </script>\n",
              "    </div>\n",
              "  </div>\n",
              "  "
            ]
          },
          "metadata": {},
          "execution_count": 75
        }
      ]
    },
    {
      "cell_type": "code",
      "source": [
        "dataset.drop('Unnamed: 0',axis=1, inplace=True)\n",
        "dataset"
      ],
      "metadata": {
        "colab": {
          "base_uri": "https://localhost:8080/",
          "height": 424
        },
        "id": "ZxFI1GCVyi2y",
        "outputId": "09927503-c951-48c3-f5f5-1f919557f5f3"
      },
      "execution_count": 76,
      "outputs": [
        {
          "output_type": "execute_result",
          "data": {
            "text/plain": [
              "     year  death\n",
              "0    1983      0\n",
              "1    1983      2\n",
              "2    1983      5\n",
              "3    1983      8\n",
              "4    1983     11\n",
              "..    ...    ...\n",
              "565  1992     29\n",
              "566  1992     32\n",
              "567  1992     35\n",
              "568  1992     38\n",
              "569  1992     41\n",
              "\n",
              "[570 rows x 2 columns]"
            ],
            "text/html": [
              "\n",
              "  <div id=\"df-c0c45d3d-2ed8-46e3-95ac-5dd19352f1d5\">\n",
              "    <div class=\"colab-df-container\">\n",
              "      <div>\n",
              "<style scoped>\n",
              "    .dataframe tbody tr th:only-of-type {\n",
              "        vertical-align: middle;\n",
              "    }\n",
              "\n",
              "    .dataframe tbody tr th {\n",
              "        vertical-align: top;\n",
              "    }\n",
              "\n",
              "    .dataframe thead th {\n",
              "        text-align: right;\n",
              "    }\n",
              "</style>\n",
              "<table border=\"1\" class=\"dataframe\">\n",
              "  <thead>\n",
              "    <tr style=\"text-align: right;\">\n",
              "      <th></th>\n",
              "      <th>year</th>\n",
              "      <th>death</th>\n",
              "    </tr>\n",
              "  </thead>\n",
              "  <tbody>\n",
              "    <tr>\n",
              "      <th>0</th>\n",
              "      <td>1983</td>\n",
              "      <td>0</td>\n",
              "    </tr>\n",
              "    <tr>\n",
              "      <th>1</th>\n",
              "      <td>1983</td>\n",
              "      <td>2</td>\n",
              "    </tr>\n",
              "    <tr>\n",
              "      <th>2</th>\n",
              "      <td>1983</td>\n",
              "      <td>5</td>\n",
              "    </tr>\n",
              "    <tr>\n",
              "      <th>3</th>\n",
              "      <td>1983</td>\n",
              "      <td>8</td>\n",
              "    </tr>\n",
              "    <tr>\n",
              "      <th>4</th>\n",
              "      <td>1983</td>\n",
              "      <td>11</td>\n",
              "    </tr>\n",
              "    <tr>\n",
              "      <th>...</th>\n",
              "      <td>...</td>\n",
              "      <td>...</td>\n",
              "    </tr>\n",
              "    <tr>\n",
              "      <th>565</th>\n",
              "      <td>1992</td>\n",
              "      <td>29</td>\n",
              "    </tr>\n",
              "    <tr>\n",
              "      <th>566</th>\n",
              "      <td>1992</td>\n",
              "      <td>32</td>\n",
              "    </tr>\n",
              "    <tr>\n",
              "      <th>567</th>\n",
              "      <td>1992</td>\n",
              "      <td>35</td>\n",
              "    </tr>\n",
              "    <tr>\n",
              "      <th>568</th>\n",
              "      <td>1992</td>\n",
              "      <td>38</td>\n",
              "    </tr>\n",
              "    <tr>\n",
              "      <th>569</th>\n",
              "      <td>1992</td>\n",
              "      <td>41</td>\n",
              "    </tr>\n",
              "  </tbody>\n",
              "</table>\n",
              "<p>570 rows × 2 columns</p>\n",
              "</div>\n",
              "      <button class=\"colab-df-convert\" onclick=\"convertToInteractive('df-c0c45d3d-2ed8-46e3-95ac-5dd19352f1d5')\"\n",
              "              title=\"Convert this dataframe to an interactive table.\"\n",
              "              style=\"display:none;\">\n",
              "        \n",
              "  <svg xmlns=\"http://www.w3.org/2000/svg\" height=\"24px\"viewBox=\"0 0 24 24\"\n",
              "       width=\"24px\">\n",
              "    <path d=\"M0 0h24v24H0V0z\" fill=\"none\"/>\n",
              "    <path d=\"M18.56 5.44l.94 2.06.94-2.06 2.06-.94-2.06-.94-.94-2.06-.94 2.06-2.06.94zm-11 1L8.5 8.5l.94-2.06 2.06-.94-2.06-.94L8.5 2.5l-.94 2.06-2.06.94zm10 10l.94 2.06.94-2.06 2.06-.94-2.06-.94-.94-2.06-.94 2.06-2.06.94z\"/><path d=\"M17.41 7.96l-1.37-1.37c-.4-.4-.92-.59-1.43-.59-.52 0-1.04.2-1.43.59L10.3 9.45l-7.72 7.72c-.78.78-.78 2.05 0 2.83L4 21.41c.39.39.9.59 1.41.59.51 0 1.02-.2 1.41-.59l7.78-7.78 2.81-2.81c.8-.78.8-2.07 0-2.86zM5.41 20L4 18.59l7.72-7.72 1.47 1.35L5.41 20z\"/>\n",
              "  </svg>\n",
              "      </button>\n",
              "      \n",
              "  <style>\n",
              "    .colab-df-container {\n",
              "      display:flex;\n",
              "      flex-wrap:wrap;\n",
              "      gap: 12px;\n",
              "    }\n",
              "\n",
              "    .colab-df-convert {\n",
              "      background-color: #E8F0FE;\n",
              "      border: none;\n",
              "      border-radius: 50%;\n",
              "      cursor: pointer;\n",
              "      display: none;\n",
              "      fill: #1967D2;\n",
              "      height: 32px;\n",
              "      padding: 0 0 0 0;\n",
              "      width: 32px;\n",
              "    }\n",
              "\n",
              "    .colab-df-convert:hover {\n",
              "      background-color: #E2EBFA;\n",
              "      box-shadow: 0px 1px 2px rgba(60, 64, 67, 0.3), 0px 1px 3px 1px rgba(60, 64, 67, 0.15);\n",
              "      fill: #174EA6;\n",
              "    }\n",
              "\n",
              "    [theme=dark] .colab-df-convert {\n",
              "      background-color: #3B4455;\n",
              "      fill: #D2E3FC;\n",
              "    }\n",
              "\n",
              "    [theme=dark] .colab-df-convert:hover {\n",
              "      background-color: #434B5C;\n",
              "      box-shadow: 0px 1px 3px 1px rgba(0, 0, 0, 0.15);\n",
              "      filter: drop-shadow(0px 1px 2px rgba(0, 0, 0, 0.3));\n",
              "      fill: #FFFFFF;\n",
              "    }\n",
              "  </style>\n",
              "\n",
              "      <script>\n",
              "        const buttonEl =\n",
              "          document.querySelector('#df-c0c45d3d-2ed8-46e3-95ac-5dd19352f1d5 button.colab-df-convert');\n",
              "        buttonEl.style.display =\n",
              "          google.colab.kernel.accessAllowed ? 'block' : 'none';\n",
              "\n",
              "        async function convertToInteractive(key) {\n",
              "          const element = document.querySelector('#df-c0c45d3d-2ed8-46e3-95ac-5dd19352f1d5');\n",
              "          const dataTable =\n",
              "            await google.colab.kernel.invokeFunction('convertToInteractive',\n",
              "                                                     [key], {});\n",
              "          if (!dataTable) return;\n",
              "\n",
              "          const docLinkHtml = 'Like what you see? Visit the ' +\n",
              "            '<a target=\"_blank\" href=https://colab.research.google.com/notebooks/data_table.ipynb>data table notebook</a>'\n",
              "            + ' to learn more about interactive tables.';\n",
              "          element.innerHTML = '';\n",
              "          dataTable['output_type'] = 'display_data';\n",
              "          await google.colab.output.renderOutput(dataTable, element);\n",
              "          const docLink = document.createElement('div');\n",
              "          docLink.innerHTML = docLinkHtml;\n",
              "          element.appendChild(docLink);\n",
              "        }\n",
              "      </script>\n",
              "    </div>\n",
              "  </div>\n",
              "  "
            ]
          },
          "metadata": {},
          "execution_count": 76
        }
      ]
    },
    {
      "cell_type": "markdown",
      "source": [
        "DATA PREPROCESSING"
      ],
      "metadata": {
        "id": "WJA2r2132CEs"
      }
    },
    {
      "cell_type": "code",
      "source": [
        "x =dataset.iloc[: ,:-1].values\n",
        "y =dataset.iloc[: , -1].values"
      ],
      "metadata": {
        "id": "1b8juhOv0x5T"
      },
      "execution_count": 77,
      "outputs": []
    },
    {
      "cell_type": "code",
      "source": [
        "x"
      ],
      "metadata": {
        "colab": {
          "base_uri": "https://localhost:8080/"
        },
        "id": "AnlkjUzQ02aP",
        "outputId": "c058b800-51ba-491a-f225-52c1ea0dd577"
      },
      "execution_count": 78,
      "outputs": [
        {
          "output_type": "execute_result",
          "data": {
            "text/plain": [
              "array([[1983],\n",
              "       [1983],\n",
              "       [1983],\n",
              "       [1983],\n",
              "       [1983],\n",
              "       [1983],\n",
              "       [1983],\n",
              "       [1983],\n",
              "       [1983],\n",
              "       [1983],\n",
              "       [1983],\n",
              "       [1983],\n",
              "       [1983],\n",
              "       [1983],\n",
              "       [1983],\n",
              "       [1983],\n",
              "       [1983],\n",
              "       [1983],\n",
              "       [1983],\n",
              "       [1983],\n",
              "       [1983],\n",
              "       [1983],\n",
              "       [1983],\n",
              "       [1983],\n",
              "       [1983],\n",
              "       [1983],\n",
              "       [1983],\n",
              "       [1983],\n",
              "       [1983],\n",
              "       [1983],\n",
              "       [1984],\n",
              "       [1984],\n",
              "       [1984],\n",
              "       [1984],\n",
              "       [1984],\n",
              "       [1984],\n",
              "       [1984],\n",
              "       [1984],\n",
              "       [1984],\n",
              "       [1984],\n",
              "       [1984],\n",
              "       [1984],\n",
              "       [1984],\n",
              "       [1984],\n",
              "       [1984],\n",
              "       [1984],\n",
              "       [1984],\n",
              "       [1984],\n",
              "       [1984],\n",
              "       [1984],\n",
              "       [1984],\n",
              "       [1984],\n",
              "       [1984],\n",
              "       [1984],\n",
              "       [1984],\n",
              "       [1984],\n",
              "       [1984],\n",
              "       [1984],\n",
              "       [1984],\n",
              "       [1984],\n",
              "       [1984],\n",
              "       [1984],\n",
              "       [1984],\n",
              "       [1984],\n",
              "       [1984],\n",
              "       [1984],\n",
              "       [1984],\n",
              "       [1984],\n",
              "       [1984],\n",
              "       [1984],\n",
              "       [1984],\n",
              "       [1984],\n",
              "       [1984],\n",
              "       [1984],\n",
              "       [1984],\n",
              "       [1984],\n",
              "       [1984],\n",
              "       [1984],\n",
              "       [1984],\n",
              "       [1984],\n",
              "       [1984],\n",
              "       [1984],\n",
              "       [1984],\n",
              "       [1984],\n",
              "       [1984],\n",
              "       [1984],\n",
              "       [1984],\n",
              "       [1984],\n",
              "       [1984],\n",
              "       [1984],\n",
              "       [1985],\n",
              "       [1985],\n",
              "       [1985],\n",
              "       [1985],\n",
              "       [1985],\n",
              "       [1985],\n",
              "       [1985],\n",
              "       [1985],\n",
              "       [1985],\n",
              "       [1985],\n",
              "       [1985],\n",
              "       [1985],\n",
              "       [1985],\n",
              "       [1985],\n",
              "       [1985],\n",
              "       [1985],\n",
              "       [1985],\n",
              "       [1985],\n",
              "       [1985],\n",
              "       [1985],\n",
              "       [1985],\n",
              "       [1985],\n",
              "       [1985],\n",
              "       [1985],\n",
              "       [1985],\n",
              "       [1985],\n",
              "       [1985],\n",
              "       [1985],\n",
              "       [1985],\n",
              "       [1985],\n",
              "       [1985],\n",
              "       [1985],\n",
              "       [1985],\n",
              "       [1985],\n",
              "       [1985],\n",
              "       [1985],\n",
              "       [1985],\n",
              "       [1985],\n",
              "       [1985],\n",
              "       [1985],\n",
              "       [1985],\n",
              "       [1985],\n",
              "       [1985],\n",
              "       [1985],\n",
              "       [1985],\n",
              "       [1985],\n",
              "       [1985],\n",
              "       [1985],\n",
              "       [1985],\n",
              "       [1985],\n",
              "       [1985],\n",
              "       [1985],\n",
              "       [1985],\n",
              "       [1985],\n",
              "       [1985],\n",
              "       [1985],\n",
              "       [1985],\n",
              "       [1985],\n",
              "       [1985],\n",
              "       [1985],\n",
              "       [1986],\n",
              "       [1986],\n",
              "       [1986],\n",
              "       [1986],\n",
              "       [1986],\n",
              "       [1986],\n",
              "       [1986],\n",
              "       [1986],\n",
              "       [1986],\n",
              "       [1986],\n",
              "       [1986],\n",
              "       [1986],\n",
              "       [1986],\n",
              "       [1986],\n",
              "       [1986],\n",
              "       [1986],\n",
              "       [1986],\n",
              "       [1986],\n",
              "       [1986],\n",
              "       [1986],\n",
              "       [1986],\n",
              "       [1986],\n",
              "       [1986],\n",
              "       [1986],\n",
              "       [1986],\n",
              "       [1986],\n",
              "       [1986],\n",
              "       [1986],\n",
              "       [1986],\n",
              "       [1986],\n",
              "       [1986],\n",
              "       [1986],\n",
              "       [1986],\n",
              "       [1986],\n",
              "       [1986],\n",
              "       [1986],\n",
              "       [1986],\n",
              "       [1986],\n",
              "       [1986],\n",
              "       [1986],\n",
              "       [1986],\n",
              "       [1986],\n",
              "       [1986],\n",
              "       [1986],\n",
              "       [1986],\n",
              "       [1986],\n",
              "       [1986],\n",
              "       [1986],\n",
              "       [1986],\n",
              "       [1986],\n",
              "       [1986],\n",
              "       [1986],\n",
              "       [1986],\n",
              "       [1986],\n",
              "       [1986],\n",
              "       [1986],\n",
              "       [1986],\n",
              "       [1986],\n",
              "       [1986],\n",
              "       [1986],\n",
              "       [1987],\n",
              "       [1987],\n",
              "       [1987],\n",
              "       [1987],\n",
              "       [1987],\n",
              "       [1987],\n",
              "       [1987],\n",
              "       [1987],\n",
              "       [1987],\n",
              "       [1987],\n",
              "       [1987],\n",
              "       [1987],\n",
              "       [1987],\n",
              "       [1987],\n",
              "       [1987],\n",
              "       [1987],\n",
              "       [1987],\n",
              "       [1987],\n",
              "       [1987],\n",
              "       [1987],\n",
              "       [1987],\n",
              "       [1987],\n",
              "       [1987],\n",
              "       [1987],\n",
              "       [1987],\n",
              "       [1987],\n",
              "       [1987],\n",
              "       [1987],\n",
              "       [1987],\n",
              "       [1987],\n",
              "       [1987],\n",
              "       [1987],\n",
              "       [1987],\n",
              "       [1987],\n",
              "       [1987],\n",
              "       [1987],\n",
              "       [1987],\n",
              "       [1987],\n",
              "       [1987],\n",
              "       [1987],\n",
              "       [1987],\n",
              "       [1987],\n",
              "       [1987],\n",
              "       [1987],\n",
              "       [1987],\n",
              "       [1987],\n",
              "       [1987],\n",
              "       [1987],\n",
              "       [1987],\n",
              "       [1987],\n",
              "       [1987],\n",
              "       [1987],\n",
              "       [1987],\n",
              "       [1987],\n",
              "       [1987],\n",
              "       [1987],\n",
              "       [1987],\n",
              "       [1987],\n",
              "       [1987],\n",
              "       [1987],\n",
              "       [1988],\n",
              "       [1988],\n",
              "       [1988],\n",
              "       [1988],\n",
              "       [1988],\n",
              "       [1988],\n",
              "       [1988],\n",
              "       [1988],\n",
              "       [1988],\n",
              "       [1988],\n",
              "       [1988],\n",
              "       [1988],\n",
              "       [1988],\n",
              "       [1988],\n",
              "       [1988],\n",
              "       [1988],\n",
              "       [1988],\n",
              "       [1988],\n",
              "       [1988],\n",
              "       [1988],\n",
              "       [1988],\n",
              "       [1988],\n",
              "       [1988],\n",
              "       [1988],\n",
              "       [1988],\n",
              "       [1988],\n",
              "       [1988],\n",
              "       [1988],\n",
              "       [1988],\n",
              "       [1988],\n",
              "       [1988],\n",
              "       [1988],\n",
              "       [1988],\n",
              "       [1988],\n",
              "       [1988],\n",
              "       [1988],\n",
              "       [1988],\n",
              "       [1988],\n",
              "       [1988],\n",
              "       [1988],\n",
              "       [1988],\n",
              "       [1988],\n",
              "       [1988],\n",
              "       [1988],\n",
              "       [1988],\n",
              "       [1988],\n",
              "       [1988],\n",
              "       [1988],\n",
              "       [1988],\n",
              "       [1988],\n",
              "       [1988],\n",
              "       [1988],\n",
              "       [1988],\n",
              "       [1988],\n",
              "       [1988],\n",
              "       [1988],\n",
              "       [1988],\n",
              "       [1988],\n",
              "       [1988],\n",
              "       [1988],\n",
              "       [1989],\n",
              "       [1989],\n",
              "       [1989],\n",
              "       [1989],\n",
              "       [1989],\n",
              "       [1989],\n",
              "       [1989],\n",
              "       [1989],\n",
              "       [1989],\n",
              "       [1989],\n",
              "       [1989],\n",
              "       [1989],\n",
              "       [1989],\n",
              "       [1989],\n",
              "       [1989],\n",
              "       [1989],\n",
              "       [1989],\n",
              "       [1989],\n",
              "       [1989],\n",
              "       [1989],\n",
              "       [1989],\n",
              "       [1989],\n",
              "       [1989],\n",
              "       [1989],\n",
              "       [1989],\n",
              "       [1989],\n",
              "       [1989],\n",
              "       [1989],\n",
              "       [1989],\n",
              "       [1989],\n",
              "       [1989],\n",
              "       [1989],\n",
              "       [1989],\n",
              "       [1989],\n",
              "       [1989],\n",
              "       [1989],\n",
              "       [1989],\n",
              "       [1989],\n",
              "       [1989],\n",
              "       [1989],\n",
              "       [1989],\n",
              "       [1989],\n",
              "       [1989],\n",
              "       [1989],\n",
              "       [1989],\n",
              "       [1989],\n",
              "       [1989],\n",
              "       [1989],\n",
              "       [1989],\n",
              "       [1989],\n",
              "       [1989],\n",
              "       [1989],\n",
              "       [1989],\n",
              "       [1989],\n",
              "       [1989],\n",
              "       [1989],\n",
              "       [1989],\n",
              "       [1989],\n",
              "       [1989],\n",
              "       [1989],\n",
              "       [1990],\n",
              "       [1990],\n",
              "       [1990],\n",
              "       [1990],\n",
              "       [1990],\n",
              "       [1990],\n",
              "       [1990],\n",
              "       [1990],\n",
              "       [1990],\n",
              "       [1990],\n",
              "       [1990],\n",
              "       [1990],\n",
              "       [1990],\n",
              "       [1990],\n",
              "       [1990],\n",
              "       [1990],\n",
              "       [1990],\n",
              "       [1990],\n",
              "       [1990],\n",
              "       [1990],\n",
              "       [1990],\n",
              "       [1990],\n",
              "       [1990],\n",
              "       [1990],\n",
              "       [1990],\n",
              "       [1990],\n",
              "       [1990],\n",
              "       [1990],\n",
              "       [1990],\n",
              "       [1990],\n",
              "       [1990],\n",
              "       [1990],\n",
              "       [1990],\n",
              "       [1990],\n",
              "       [1990],\n",
              "       [1990],\n",
              "       [1990],\n",
              "       [1990],\n",
              "       [1990],\n",
              "       [1990],\n",
              "       [1990],\n",
              "       [1990],\n",
              "       [1990],\n",
              "       [1990],\n",
              "       [1990],\n",
              "       [1990],\n",
              "       [1990],\n",
              "       [1990],\n",
              "       [1990],\n",
              "       [1990],\n",
              "       [1990],\n",
              "       [1990],\n",
              "       [1990],\n",
              "       [1990],\n",
              "       [1990],\n",
              "       [1990],\n",
              "       [1990],\n",
              "       [1990],\n",
              "       [1990],\n",
              "       [1990],\n",
              "       [1991],\n",
              "       [1991],\n",
              "       [1991],\n",
              "       [1991],\n",
              "       [1991],\n",
              "       [1991],\n",
              "       [1991],\n",
              "       [1991],\n",
              "       [1991],\n",
              "       [1991],\n",
              "       [1991],\n",
              "       [1991],\n",
              "       [1991],\n",
              "       [1991],\n",
              "       [1991],\n",
              "       [1991],\n",
              "       [1991],\n",
              "       [1991],\n",
              "       [1991],\n",
              "       [1991],\n",
              "       [1991],\n",
              "       [1991],\n",
              "       [1991],\n",
              "       [1991],\n",
              "       [1991],\n",
              "       [1991],\n",
              "       [1991],\n",
              "       [1991],\n",
              "       [1991],\n",
              "       [1991],\n",
              "       [1991],\n",
              "       [1991],\n",
              "       [1991],\n",
              "       [1991],\n",
              "       [1991],\n",
              "       [1991],\n",
              "       [1991],\n",
              "       [1991],\n",
              "       [1991],\n",
              "       [1991],\n",
              "       [1991],\n",
              "       [1991],\n",
              "       [1991],\n",
              "       [1991],\n",
              "       [1991],\n",
              "       [1991],\n",
              "       [1991],\n",
              "       [1991],\n",
              "       [1991],\n",
              "       [1991],\n",
              "       [1991],\n",
              "       [1991],\n",
              "       [1991],\n",
              "       [1991],\n",
              "       [1991],\n",
              "       [1991],\n",
              "       [1991],\n",
              "       [1991],\n",
              "       [1991],\n",
              "       [1991],\n",
              "       [1992],\n",
              "       [1992],\n",
              "       [1992],\n",
              "       [1992],\n",
              "       [1992],\n",
              "       [1992],\n",
              "       [1992],\n",
              "       [1992],\n",
              "       [1992],\n",
              "       [1992],\n",
              "       [1992],\n",
              "       [1992],\n",
              "       [1992],\n",
              "       [1992],\n",
              "       [1992],\n",
              "       [1992],\n",
              "       [1992],\n",
              "       [1992],\n",
              "       [1992],\n",
              "       [1992],\n",
              "       [1992],\n",
              "       [1992],\n",
              "       [1992],\n",
              "       [1992],\n",
              "       [1992],\n",
              "       [1992],\n",
              "       [1992],\n",
              "       [1992],\n",
              "       [1992],\n",
              "       [1992],\n",
              "       [1992],\n",
              "       [1992],\n",
              "       [1992],\n",
              "       [1992],\n",
              "       [1992],\n",
              "       [1992],\n",
              "       [1992],\n",
              "       [1992],\n",
              "       [1992],\n",
              "       [1992],\n",
              "       [1992],\n",
              "       [1992],\n",
              "       [1992],\n",
              "       [1992],\n",
              "       [1992],\n",
              "       [1992],\n",
              "       [1992],\n",
              "       [1992],\n",
              "       [1992],\n",
              "       [1992],\n",
              "       [1992],\n",
              "       [1992],\n",
              "       [1992],\n",
              "       [1992],\n",
              "       [1992],\n",
              "       [1992],\n",
              "       [1992],\n",
              "       [1992],\n",
              "       [1992],\n",
              "       [1992]])"
            ]
          },
          "metadata": {},
          "execution_count": 78
        }
      ]
    },
    {
      "cell_type": "code",
      "source": [
        "y"
      ],
      "metadata": {
        "colab": {
          "base_uri": "https://localhost:8080/"
        },
        "id": "J8i0LhSs06by",
        "outputId": "8cc5f35d-4478-40c1-d576-6ef76b0f6a2a"
      },
      "execution_count": 79,
      "outputs": [
        {
          "output_type": "execute_result",
          "data": {
            "text/plain": [
              "array([ 0,  2,  5,  8, 11, 14, 17, 20, 23, 26, 29, 32, 35, 38, 41,  0,  2,\n",
              "        5,  8, 11, 14, 17, 20, 23, 26, 29, 32, 35, 38, 41,  0,  2,  5,  8,\n",
              "       11, 14, 17, 20, 23, 26, 29, 32, 35, 38, 41,  0,  2,  5,  8, 11, 14,\n",
              "       17, 20, 23, 26, 29, 32, 35, 38, 41,  0,  2,  5,  8, 11, 14, 17, 20,\n",
              "       23, 26, 29, 32, 35, 38, 41,  0,  2,  5,  8, 11, 14, 17, 20, 23, 26,\n",
              "       29, 32, 35, 38, 41,  0,  2,  5,  8, 11, 14, 17, 20, 23, 26, 29, 32,\n",
              "       35, 38, 41,  0,  2,  5,  8, 11, 14, 17, 20, 23, 26, 29, 32, 35, 38,\n",
              "       41,  0,  2,  5,  8, 11, 14, 17, 20, 23, 26, 29, 32, 35, 38, 41,  0,\n",
              "        2,  5,  8, 11, 14, 17, 20, 23, 26, 29, 32, 35, 38, 41,  0,  2,  5,\n",
              "        8, 11, 14, 17, 20, 23, 26, 29, 32, 35, 38, 41,  0,  2,  5,  8, 11,\n",
              "       14, 17, 20, 23, 26, 29, 32, 35, 38, 41,  0,  2,  5,  8, 11, 14, 17,\n",
              "       20, 23, 26, 29, 32, 35, 38, 41,  0,  2,  5,  8, 11, 14, 17, 20, 23,\n",
              "       26, 29, 32, 35, 38, 41,  0,  2,  5,  8, 11, 14, 17, 20, 23, 26, 29,\n",
              "       32, 35, 38, 41,  0,  2,  5,  8, 11, 14, 17, 20, 23, 26, 29, 32, 35,\n",
              "       38, 41,  0,  2,  5,  8, 11, 14, 17, 20, 23, 26, 29, 32, 35, 38, 41,\n",
              "        0,  2,  5,  8, 11, 14, 17, 20, 23, 26, 29, 32, 35, 38, 41,  0,  2,\n",
              "        5,  8, 11, 14, 17, 20, 23, 26, 29, 32, 35, 38, 41,  0,  2,  5,  8,\n",
              "       11, 14, 17, 20, 23, 26, 29, 32, 35, 38, 41,  0,  2,  5,  8, 11, 14,\n",
              "       17, 20, 23, 26, 29, 32, 35, 38, 41,  0,  2,  5,  8, 11, 14, 17, 20,\n",
              "       23, 26, 29, 32, 35, 38, 41,  0,  2,  5,  8, 11, 14, 17, 20, 23, 26,\n",
              "       29, 32, 35, 38, 41,  0,  2,  5,  8, 11, 14, 17, 20, 23, 26, 29, 32,\n",
              "       35, 38, 41,  0,  2,  5,  8, 11, 14, 17, 20, 23, 26, 29, 32, 35, 38,\n",
              "       41,  0,  2,  5,  8, 11, 14, 17, 20, 23, 26, 29, 32, 35, 38, 41,  0,\n",
              "        2,  5,  8, 11, 14, 17, 20, 23, 26, 29, 32, 35, 38, 41,  0,  2,  5,\n",
              "        8, 11, 14, 17, 20, 23, 26, 29, 32, 35, 38, 41,  0,  2,  5,  8, 11,\n",
              "       14, 17, 20, 23, 26, 29, 32, 35, 38, 41,  0,  2,  5,  8, 11, 14, 17,\n",
              "       20, 23, 26, 29, 32, 35, 38, 41,  0,  2,  5,  8, 11, 14, 17, 20, 23,\n",
              "       26, 29, 32, 35, 38, 41,  0,  2,  5,  8, 11, 14, 17, 20, 23, 26, 29,\n",
              "       32, 35, 38, 41,  0,  2,  5,  8, 11, 14, 17, 20, 23, 26, 29, 32, 35,\n",
              "       38, 41,  0,  2,  5,  8, 11, 14, 17, 20, 23, 26, 29, 32, 35, 38, 41,\n",
              "        0,  2,  5,  8, 11, 14, 17, 20, 23, 26, 29, 32, 35, 38, 41,  0,  2,\n",
              "        5,  8, 11, 14, 17, 20, 23, 26, 29, 32, 35, 38, 41,  0,  2,  5,  8,\n",
              "       11, 14, 17, 20, 23, 26, 29, 32, 35, 38, 41,  0,  2,  5,  8, 11, 14,\n",
              "       17, 20, 23, 26, 29, 32, 35, 38, 41])"
            ]
          },
          "metadata": {},
          "execution_count": 79
        }
      ]
    },
    {
      "cell_type": "markdown",
      "source": [
        "SPLITTING DATA INTO TRAIN AND TEST"
      ],
      "metadata": {
        "id": "uHR2jMK52TZc"
      }
    },
    {
      "cell_type": "code",
      "source": [
        "from sklearn.model_selection import train_test_split\n",
        "\n",
        "x_train, x_test, y_train, y_test = train_test_split(x, y, test_size = 1/3, random_state = 0)"
      ],
      "metadata": {
        "id": "DZ3WRx0D2Yml"
      },
      "execution_count": 80,
      "outputs": []
    },
    {
      "cell_type": "code",
      "source": [
        "from sklearn.linear_model import LinearRegression\n",
        "regressor = LinearRegression()\n",
        "regressor.fit(x_train, y_train)"
      ],
      "metadata": {
        "colab": {
          "base_uri": "https://localhost:8080/"
        },
        "id": "_u9SDJ_O2dAr",
        "outputId": "3ece919e-8132-4152-c203-33e4432e3dd3"
      },
      "execution_count": 81,
      "outputs": [
        {
          "output_type": "execute_result",
          "data": {
            "text/plain": [
              "LinearRegression()"
            ]
          },
          "metadata": {},
          "execution_count": 81
        }
      ]
    },
    {
      "cell_type": "markdown",
      "source": [
        "PREDICTING THE TEST SET RESULT"
      ],
      "metadata": {
        "id": "9nBlK0142iAs"
      }
    },
    {
      "cell_type": "code",
      "source": [
        "y_pred = regressor.predict(x_test)"
      ],
      "metadata": {
        "id": "HAdrIyth2g_y"
      },
      "execution_count": 82,
      "outputs": []
    },
    {
      "cell_type": "markdown",
      "source": [
        "VISUALISING TESTING RESULT"
      ],
      "metadata": {
        "id": "zsQvXFFC2uqk"
      }
    },
    {
      "cell_type": "code",
      "source": [
        "plt.scatter(x_test, y_test, color = 'blue')\n",
        "plt.plot(x_train, regressor.predict(x_train), color = 'green')\n",
        "plt.title('Annual Death Rate(Testing set)')\n",
        "plt.xlabel('Year')\n",
        "plt.ylabel('Deaths')\n",
        "plt.show()"
      ],
      "metadata": {
        "colab": {
          "base_uri": "https://localhost:8080/",
          "height": 295
        },
        "id": "iR3ojMA725IH",
        "outputId": "7d3966ec-91fb-4c47-b2c6-7b4cea7e19b6"
      },
      "execution_count": 83,
      "outputs": [
        {
          "output_type": "display_data",
          "data": {
            "text/plain": [
              "<Figure size 432x288 with 1 Axes>"
            ],
            "image/png": "[encoded data removed]"
          },
          "metadata": {
            "needs_background": "light"
          }
        }
      ]
    },
    {
      "cell_type": "markdown",
      "source": [
        "VISUALISING TRAINING RESULTS"
      ],
      "metadata": {
        "id": "DtlByiIV3dwq"
      }
    },
    {
      "cell_type": "code",
      "source": [
        "plt.scatter(x_train, y_train, color = 'green')\n",
        "plt.plot(x_train, regressor.predict(x_train), color = 'blue')\n",
        "plt.title('Annual Death Rate(Training set)')\n",
        "plt.xlabel('Year')\n",
        "plt.ylabel('Deaths')\n",
        "plt.show()"
      ],
      "metadata": {
        "colab": {
          "base_uri": "https://localhost:8080/",
          "height": 295
        },
        "id": "7u-2U37E3lVD",
        "outputId": "9f8f0b9d-4fc6-47fc-e002-562eb77f3b09"
      },
      "execution_count": 84,
      "outputs": [
        {
          "output_type": "display_data",
          "data": {
            "text/plain": [
              "<Figure size 432x288 with 1 Axes>"
            ],
            "image/png": "[encoded data removed]"
          },
          "metadata": {
            "needs_background": "light"
          }
        }
      ]
    },
    {
      "cell_type": "markdown",
      "source": [
        "APPLYING POLYNOMIAL REGRESSION"
      ],
      "metadata": {
        "id": "7cKRlgaY6IDI"
      }
    },
    {
      "cell_type": "code",
      "source": [
        "from sklearn.preprocessing import PolynomialFeatures\n",
        "poly_reg = PolynomialFeatures(degree =3)\n",
        "x_poly = poly_reg.fit_transform(x)\n",
        "poly_reg.fit(x_poly ,y)\n",
        "lin_reg_2 = LinearRegression()\n",
        "lin_reg_2.fit(x_poly ,y)"
      ],
      "metadata": {
        "colab": {
          "base_uri": "https://localhost:8080/"
        },
        "id": "qVWgN9tM6MgS",
        "outputId": "981df555-908f-4897-8da1-0144bb46d715"
      },
      "execution_count": 85,
      "outputs": [
        {
          "output_type": "execute_result",
          "data": {
            "text/plain": [
              "LinearRegression()"
            ]
          },
          "metadata": {},
          "execution_count": 85
        }
      ]
    },
    {
      "cell_type": "markdown",
      "source": [
        "VISUALISING THE RESULT"
      ],
      "metadata": {
        "id": "81JZsf2Q6QvE"
      }
    },
    {
      "cell_type": "code",
      "source": [
        "plt.scatter(x,y,color = \"blue\")\n",
        "plt.plot(x ,lin_reg_2.predict(poly_reg.fit_transform(x)), color =\"green\")\n",
        "plt.title(\"Annual Death Rate(Polynomial Regression)\")\n",
        "plt.xlabel(\"Year\")\n",
        "plt.ylabel(\"Deaths\")\n",
        "plt.show()"
      ],
      "metadata": {
        "id": "y0ia7kd96WJZ",
        "colab": {
          "base_uri": "https://localhost:8080/",
          "height": 295
        },
        "outputId": "40058264-3b61-4d4d-b58a-6b0a5d9a1b61"
      },
      "execution_count": 86,
      "outputs": [
        {
          "output_type": "display_data",
          "data": {
            "text/plain": [
              "<Figure size 432x288 with 1 Axes>"
            ],
            "image/png": "[encoded data removed]"
          },
          "metadata": {
            "needs_background": "light"
          }
        }
      ]
    },
    {
      "cell_type": "code",
      "source": [
        "x_grid =np.arange(min(x) ,max(x) ,0.1)\n",
        "x_grid =x_grid.reshape((len(x_grid), 1))\n",
        "plt.scatter(x , y,color=\"green\")\n",
        "plt.plot(x_grid ,lin_reg_2.predict(poly_reg.fit_transform(x_grid)), color=\"blue\")\n",
        "plt.title(\"Annual Death Rate(Polynomial Regression)\")\n",
        "plt.xlabel(\"Year\")\n",
        "plt.ylabel(\"Deaths\")\n",
        "plt.show()"
      ],
      "metadata": {
        "id": "0rZ02RoM6ciZ",
        "colab": {
          "base_uri": "https://localhost:8080/",
          "height": 295
        },
        "outputId": "5d97a192-dfdc-470c-ef5f-d808732db4c6"
      },
      "execution_count": 88,
      "outputs": [
        {
          "output_type": "display_data",
          "data": {
            "text/plain": [
              "<Figure size 432x288 with 1 Axes>"
            ],
            "image/png": "[encoded data removed]"
          },
          "metadata": {
            "needs_background": "light"
          }
        }
      ]
    },
    {
      "cell_type": "markdown",
      "source": [
        "PREDICTION THE RESULTS"
      ],
      "metadata": {
        "id": "M3R-03_S6g41"
      }
    },
    {
      "cell_type": "code",
      "source": [
        "y_pred =regressor.predict([[1993]])\n",
        "print(\"Annual Death Rate in 1993 is =\")\n",
        "print(y_pred)"
      ],
      "metadata": {
        "id": "unhchvWS6lXZ",
        "colab": {
          "base_uri": "https://localhost:8080/"
        },
        "outputId": "3e453705-4866-485a-8528-0582936a3d0d"
      },
      "execution_count": 89,
      "outputs": [
        {
          "output_type": "stream",
          "name": "stdout",
          "text": [
            "Annual Death Rate in 1993 is =\n",
            "[19.01921227]\n"
          ]
        }
      ]
    },
    {
      "cell_type": "code",
      "source": [
        "y_pred =regressor.predict([[1994]])\n",
        "print(\"Annual Death Rate in 1994 is =\")\n",
        "print(y_pred)"
      ],
      "metadata": {
        "id": "3fRLZ0GM6pqI",
        "colab": {
          "base_uri": "https://localhost:8080/"
        },
        "outputId": "d441a325-6238-4006-914c-2a712a3ef5b2"
      },
      "execution_count": 91,
      "outputs": [
        {
          "output_type": "stream",
          "name": "stdout",
          "text": [
            "Annual Death Rate in 1994 is =\n",
            "[18.80977117]\n"
          ]
        }
      ]
    },
    {
      "cell_type": "code",
      "source": [
        "y_pred =regressor.predict([[1995]])\n",
        "print(\"Annual Death Rate in 1995 is =\")\n",
        "print(y_pred)"
      ],
      "metadata": {
        "id": "0RbiRrnC6qQg",
        "colab": {
          "base_uri": "https://localhost:8080/"
        },
        "outputId": "ec056d42-7e5e-4061-dbac-397ee657708c"
      },
      "execution_count": 92,
      "outputs": [
        {
          "output_type": "stream",
          "name": "stdout",
          "text": [
            "Annual Death Rate in 1995 is =\n",
            "[18.60033007]\n"
          ]
        }
      ]
    },
    {
      "cell_type": "code",
      "source": [
        "y_pred =regressor.predict([[1996]])\n",
        "print(\"Annual Death Rate in 1996 is =\")\n",
        "print(y_pred)"
      ],
      "metadata": {
        "id": "L-rkeKch6q20",
        "colab": {
          "base_uri": "https://localhost:8080/"
        },
        "outputId": "08a1eb90-62b7-42aa-da75-e5bdbb457395"
      },
      "execution_count": 93,
      "outputs": [
        {
          "output_type": "stream",
          "name": "stdout",
          "text": [
            "Annual Death Rate in 1996 is =\n",
            "[18.39088897]\n"
          ]
        }
      ]
    },
    {
      "cell_type": "code",
      "source": [
        "y_pred =regressor.predict([[1997]])\n",
        "print(\"Annual Death Rate in 1997 is =\")\n",
        "print(y_pred)"
      ],
      "metadata": {
        "id": "D7VD3PR86rai",
        "colab": {
          "base_uri": "https://localhost:8080/"
        },
        "outputId": "1c9db155-dfd7-4e0c-ef1d-309fb7e52eae"
      },
      "execution_count": 94,
      "outputs": [
        {
          "output_type": "stream",
          "name": "stdout",
          "text": [
            "Annual Death Rate in 1997 is =\n",
            "[18.18144788]\n"
          ]
        }
      ]
    },
    {
      "cell_type": "code",
      "source": [
        "y_pred =regressor.predict([[1998]])\n",
        "print(\"Annual Death Rate in 1998 is =\")\n",
        "print(y_pred)"
      ],
      "metadata": {
        "id": "FA5kPIDy6sBV",
        "colab": {
          "base_uri": "https://localhost:8080/"
        },
        "outputId": "fe9c0039-6c54-4ec1-9b5b-79b97a8198eb"
      },
      "execution_count": 95,
      "outputs": [
        {
          "output_type": "stream",
          "name": "stdout",
          "text": [
            "Annual Death Rate in 1998 is =\n",
            "[17.97200678]\n"
          ]
        }
      ]
    },
    {
      "cell_type": "code",
      "source": [
        "y_pred =regressor.predict([[1999]])\n",
        "print(\"Annual Death Rate in 1999 is =\")\n",
        "print(y_pred)"
      ],
      "metadata": {
        "id": "UG4ko-uY6t8I",
        "colab": {
          "base_uri": "https://localhost:8080/"
        },
        "outputId": "8db6f08c-6385-4dc7-b5ce-aa3b0743fd91"
      },
      "execution_count": 96,
      "outputs": [
        {
          "output_type": "stream",
          "name": "stdout",
          "text": [
            "Annual Death Rate in 1999 is =\n",
            "[17.76256568]\n"
          ]
        }
      ]
    },
    {
      "cell_type": "code",
      "source": [
        "y_pred =regressor.predict([[2000]])\n",
        "print(\"Annual Death Rate in 2000 is =\")\n",
        "print(y_pred)"
      ],
      "metadata": {
        "id": "Vs0jTs7d6uli",
        "colab": {
          "base_uri": "https://localhost:8080/"
        },
        "outputId": "20bc890e-cb12-4db9-a8c9-abbeab4ffa28"
      },
      "execution_count": 97,
      "outputs": [
        {
          "output_type": "stream",
          "name": "stdout",
          "text": [
            "Annual Death Rate in 2000 is =\n",
            "[17.55312459]\n"
          ]
        }
      ]
    },
    {
      "cell_type": "markdown",
      "source": [
        "DECISSION TREE REGRESSION"
      ],
      "metadata": {
        "id": "wMYtyH876z1z"
      }
    },
    {
      "cell_type": "code",
      "source": [
        "from sklearn.tree import DecisionTreeRegressor\n",
        "regressor = DecisionTreeRegressor(random_state = 0)\n",
        "regressor.fit(x, y)"
      ],
      "metadata": {
        "id": "Kkl-ytsP63R5",
        "colab": {
          "base_uri": "https://localhost:8080/"
        },
        "outputId": "6b40483b-f599-4629-ed8a-e06bb5b7f9df"
      },
      "execution_count": 98,
      "outputs": [
        {
          "output_type": "execute_result",
          "data": {
            "text/plain": [
              "DecisionTreeRegressor(random_state=0)"
            ]
          },
          "metadata": {},
          "execution_count": 98
        }
      ]
    },
    {
      "cell_type": "markdown",
      "source": [
        "PREDICTING NEW RESULT"
      ],
      "metadata": {
        "id": "94fYTYi166kl"
      }
    },
    {
      "cell_type": "code",
      "source": [
        "regressor.predict([[1993]])"
      ],
      "metadata": {
        "id": "etmT75il6-15",
        "colab": {
          "base_uri": "https://localhost:8080/"
        },
        "outputId": "bcd8019f-3073-4508-a013-3ec1d73c7940"
      },
      "execution_count": 99,
      "outputs": [
        {
          "output_type": "execute_result",
          "data": {
            "text/plain": [
              "array([20.06666667])"
            ]
          },
          "metadata": {},
          "execution_count": 99
        }
      ]
    },
    {
      "cell_type": "code",
      "source": [
        "regressor.predict([[1995]])"
      ],
      "metadata": {
        "colab": {
          "base_uri": "https://localhost:8080/"
        },
        "id": "x3wTuVtQg7IX",
        "outputId": "62767bd9-b03c-4511-ecf6-8b98684e7a27"
      },
      "execution_count": 100,
      "outputs": [
        {
          "output_type": "execute_result",
          "data": {
            "text/plain": [
              "array([20.06666667])"
            ]
          },
          "metadata": {},
          "execution_count": 100
        }
      ]
    },
    {
      "cell_type": "code",
      "source": [
        "regressor.predict([[2000]])"
      ],
      "metadata": {
        "colab": {
          "base_uri": "https://localhost:8080/"
        },
        "id": "95A3xP7ng7_c",
        "outputId": "134eeece-e63b-4505-88d8-7b8739109abf"
      },
      "execution_count": 101,
      "outputs": [
        {
          "output_type": "execute_result",
          "data": {
            "text/plain": [
              "array([20.06666667])"
            ]
          },
          "metadata": {},
          "execution_count": 101
        }
      ]
    },
    {
      "cell_type": "markdown",
      "source": [
        "VISUALISING THE RESULT"
      ],
      "metadata": {
        "id": "9jl34xzA7D6S"
      }
    },
    {
      "cell_type": "code",
      "source": [
        "x_grid = np.arange(min(x), max(x), 0.01)\n",
        "x_grid = x_grid.reshape((len(x_grid), 1))\n",
        "plt.scatter(x, y, color = 'green')\n",
        "plt.plot(x_grid, regressor.predict(x_grid), color = 'blue')\n",
        "plt.title('Annual Death Rate(Decision Tree Regression)')\n",
        "plt.xlabel('Year')\n",
        "plt.ylabel('Deaths')\n",
        "plt.show()"
      ],
      "metadata": {
        "id": "WawBcxNW7Hky",
        "colab": {
          "base_uri": "https://localhost:8080/",
          "height": 295
        },
        "outputId": "3510787a-fcea-47b3-f9fd-cc21f635bd92"
      },
      "execution_count": 102,
      "outputs": [
        {
          "output_type": "display_data",
          "data": {
            "text/plain": [
              "<Figure size 432x288 with 1 Axes>"
            ],
            "image/png": "[encoded data removed]"
          },
          "metadata": {
            "needs_background": "light"
          }
        }
      ]
    },
    {
      "cell_type": "markdown",
      "source": [
        "RANDOM FOREST REGRESSION"
      ],
      "metadata": {
        "id": "Rsqnp_JW7Mmj"
      }
    },
    {
      "cell_type": "code",
      "source": [
        "from sklearn.ensemble import RandomForestRegressor\n",
        "regressor = RandomForestRegressor(n_estimators = 10, random_state = 0)\n",
        "regressor.fit(x, y)"
      ],
      "metadata": {
        "id": "7lhedkDQ7Qow",
        "colab": {
          "base_uri": "https://localhost:8080/"
        },
        "outputId": "190ba975-3757-4621-89a9-6f4aeb64bf71"
      },
      "execution_count": 103,
      "outputs": [
        {
          "output_type": "execute_result",
          "data": {
            "text/plain": [
              "RandomForestRegressor(n_estimators=10, random_state=0)"
            ]
          },
          "metadata": {},
          "execution_count": 103
        }
      ]
    },
    {
      "cell_type": "markdown",
      "source": [
        "PREDICTING NEW RESULT"
      ],
      "metadata": {
        "id": "umHU746p7UHi"
      }
    },
    {
      "cell_type": "code",
      "source": [
        "regressor.predict([[1993]])"
      ],
      "metadata": {
        "id": "YiCyl9-p7ZRP",
        "colab": {
          "base_uri": "https://localhost:8080/"
        },
        "outputId": "4f4d4d8c-4a6b-4ac7-8ece-5822b9ca804f"
      },
      "execution_count": 104,
      "outputs": [
        {
          "output_type": "execute_result",
          "data": {
            "text/plain": [
              "array([20.03545791])"
            ]
          },
          "metadata": {},
          "execution_count": 104
        }
      ]
    },
    {
      "cell_type": "code",
      "source": [
        "regressor.predict([[1995]])"
      ],
      "metadata": {
        "colab": {
          "base_uri": "https://localhost:8080/"
        },
        "id": "KktuiuPtjWk4",
        "outputId": "6f869f51-48a6-4fcc-a8ea-23315e54ac8d"
      },
      "execution_count": 105,
      "outputs": [
        {
          "output_type": "execute_result",
          "data": {
            "text/plain": [
              "array([20.03545791])"
            ]
          },
          "metadata": {},
          "execution_count": 105
        }
      ]
    },
    {
      "cell_type": "code",
      "source": [
        "regressor.predict([[2000]])"
      ],
      "metadata": {
        "colab": {
          "base_uri": "https://localhost:8080/"
        },
        "id": "wBehUMEOjXP9",
        "outputId": "036379d7-a9bb-4671-a2e2-3ed01d7d3e2a"
      },
      "execution_count": 106,
      "outputs": [
        {
          "output_type": "execute_result",
          "data": {
            "text/plain": [
              "array([20.03545791])"
            ]
          },
          "metadata": {},
          "execution_count": 106
        }
      ]
    },
    {
      "cell_type": "markdown",
      "source": [
        "VISUALISING THE RESULT"
      ],
      "metadata": {
        "id": "gwhZv3pQ7doi"
      }
    },
    {
      "cell_type": "code",
      "source": [
        "x_grid = np.arange(min(x), max(x), 0.01)\n",
        "x_grid = x_grid.reshape((len(x_grid), 1))\n",
        "plt.scatter(x, y, color = 'blue')\n",
        "plt.plot(x_grid, regressor.predict(x_grid), color = 'green')\n",
        "plt.title('Annual Death Rate(Random Forest Regression)')\n",
        "plt.xlabel('Year')\n",
        "plt.ylabel('Deaths')\n",
        "plt.show()"
      ],
      "metadata": {
        "id": "cfm5j84F7l6y",
        "colab": {
          "base_uri": "https://localhost:8080/",
          "height": 295
        },
        "outputId": "a4c58445-125a-4ee3-9200-6b178be5457a"
      },
      "execution_count": 107,
      "outputs": [
        {
          "output_type": "display_data",
          "data": {
            "text/plain": [
              "<Figure size 432x288 with 1 Axes>"
            ],
            "image/png": "[encoded data removed]"
          },
          "metadata": {
            "needs_background": "light"
          }
        }
      ]
    }
  ]
}